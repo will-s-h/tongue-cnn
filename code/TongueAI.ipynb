{
  "nbformat": 4,
  "nbformat_minor": 0,
  "metadata": {
    "colab": {
      "provenance": []
    },
    "kernelspec": {
      "name": "python3",
      "display_name": "Python 3"
    },
    "language_info": {
      "name": "python"
    },
    "gpuClass": "standard",
    "accelerator": "GPU"
  },
  "cells": [
    {
      "cell_type": "code",
      "execution_count": 1,
      "metadata": {
        "colab": {
          "base_uri": "https://localhost:8080/"
        },
        "id": "tMuhqDxbr-11",
        "outputId": "57dbf950-f31e-49d0-bff2-17fb285b6cc5"
      },
      "outputs": [
        {
          "output_type": "stream",
          "name": "stdout",
          "text": [
            "Mounted at /content/drive\n",
            "/content/drive/My Drive/Dental AI Project\n"
          ]
        }
      ],
      "source": [
        "# this mounts your Google Drive to the Colab VM.\n",
        "from google.colab import drive\n",
        "drive.mount('/content/drive')\n",
        "\n",
        "FOLDERNAME = 'Dental AI Project'\n",
        "\n",
        "import sys\n",
        "PATH = f'/content/drive/My Drive/{FOLDERNAME}'\n",
        "sys.path.append(PATH)\n",
        "\n",
        "%cd $PATH"
      ]
    },
    {
      "cell_type": "code",
      "source": [
        "# Math/deep learning libraries\n",
        "import numpy as np\n",
        "import torch\n",
        "\n",
        "# set random seed here!\n",
        "torch.manual_seed(420)\n",
        "from torch import nn\n",
        "\n",
        "# Data processing\n",
        "import pandas as pd\n",
        "\n",
        "# Data transformations\n",
        "import torchvision\n",
        "import torch.nn.functional as F\n",
        "\n",
        "# Loading images/bundles of images\n",
        "from PIL import Image\n",
        "import h5py\n",
        "\n",
        "# Plotting\n",
        "import matplotlib.pyplot as plt\n",
        "\n",
        "# Progress bars\n",
        "from tqdm import tqdm\n",
        "\n",
        "# Other\n",
        "import time\n",
        "from datetime import date"
      ],
      "metadata": {
        "id": "2zdCCcgys3zi"
      },
      "execution_count": 2,
      "outputs": []
    },
    {
      "cell_type": "code",
      "source": [
        "# Set PyTorch to use the GPU, if possible\n",
        "device = torch.device('cuda') if torch.cuda.is_available() else torch.device('cpu')\n",
        "print(device)"
      ],
      "metadata": {
        "colab": {
          "base_uri": "https://localhost:8080/"
        },
        "id": "nZHKn4lCtsk2",
        "outputId": "8213a0e3-5b73-4c2f-ad27-e4ca362603e2"
      },
      "execution_count": 3,
      "outputs": [
        {
          "output_type": "stream",
          "name": "stdout",
          "text": [
            "cuda\n"
          ]
        }
      ]
    },
    {
      "cell_type": "markdown",
      "source": [
        "## Load Dataset"
      ],
      "metadata": {
        "id": "DNlwrfkYObSh"
      }
    },
    {
      "cell_type": "code",
      "source": [
        "import torchvision.transforms as T\n",
        "\n",
        "class TongueDataset(torch.utils.data.Dataset):\n",
        "    def __init__(self, csv_path, data_path, device=device):\n",
        "        self.images = []\n",
        "        self.labels = []\n",
        "        self.classes = []\n",
        "        self._label_dict = dict()\n",
        "        self._num_classes = 0\n",
        "        self.transform = T.ToTensor()\n",
        "\n",
        "        csv = pd.read_csv(csv_path)\n",
        "        prev_class = \"\"\n",
        "        for i in tqdm(range(len(csv))):\n",
        "            file_path = csv.iloc[i]['filepath']\n",
        "            img = Image.open(f'./{data_path}/{file_path}')\n",
        "            imgTensor = self.transform(img).to(device=device)\n",
        "            self.images.append(img)\n",
        "            self.labels.append(csv.iloc[i]['label'])\n",
        "            self.classes.append(csv.iloc[i]['class'])\n",
        "            if self.classes[i] != prev_class:\n",
        "                prev_class = self.classes[i]\n",
        "                self._num_classes += 1\n",
        "                self._label_dict[self.labels[i]] = self.classes[i]\n",
        "        \n",
        "        assert len(self.images) == len(self.labels)\n",
        "    \n",
        "    def __len__(self):\n",
        "        \"\"\"Returns the number of examples in the dataset\"\"\"\n",
        "        return len(self.images)\n",
        "    \n",
        "    def num_classes(self):\n",
        "        \"\"\"Returns the number of classes in the dataset\"\"\"\n",
        "        return self._num_classes\n",
        "    \n",
        "    def get_class(self, label):\n",
        "        \"\"\"Returns the name of the bird corresponding to the given label value\"\"\"\n",
        "        return self._label_dict[label]\n",
        "\n",
        "    def get_image(self, idx):\n",
        "        \"\"\"Returns the image of the idx'th example in the dataset\"\"\"\n",
        "        return self.images[idx]\n",
        "\n",
        "    def get_label(self, idx):\n",
        "        \"\"\"Returns the label of the idx'th example in the dataset\"\"\"\n",
        "        return self.labels[idx]\n",
        "    \n",
        "    def __getitem__(self, idx):\n",
        "        \"\"\"Returns a tuple of the *transformed* image and label of the idx'th example in the dataset\"\"\"\n",
        "        return (self.transform(self.images[idx]), self.labels[idx])\n",
        "    \n",
        "    def display(self, idx):\n",
        "        \"\"\"Displays the image at a given index\"\"\"\n",
        "        display(T.ToPILImage()(self.get_image(idx)))"
      ],
      "metadata": {
        "id": "MCDHVxzutuYp"
      },
      "execution_count": 4,
      "outputs": []
    },
    {
      "cell_type": "code",
      "source": [
        "# takes anywhere between 3 and 13 minutes\n",
        "all_data = TongueDataset(\"filelabels.csv\", \"Combined\")"
      ],
      "metadata": {
        "colab": {
          "base_uri": "https://localhost:8080/"
        },
        "id": "4756zVxc1Ra4",
        "outputId": "f3f67db2-832b-47ee-b41f-26021ee288c9"
      },
      "execution_count": 5,
      "outputs": [
        {
          "output_type": "stream",
          "name": "stderr",
          "text": [
            "100%|██████████| 1078/1078 [03:43<00:00,  4.82it/s]\n"
          ]
        }
      ]
    },
    {
      "cell_type": "markdown",
      "source": [
        "## Define AI"
      ],
      "metadata": {
        "id": "EPTw3g3yOeyh"
      }
    },
    {
      "cell_type": "code",
      "source": [
        "from torchvision.models import resnet50\n",
        "\n",
        "class TongueAI(nn.Module):\n",
        "    def __init__(self, num_classes=4):\n",
        "        super().__init__()\n",
        "        # input = 224 x 224 x 3\n",
        "        self.resnet = resnet50(weights=None) #pre-trained weights\n",
        "        num_ftrs = self.resnet.fc.in_features\n",
        "        self.resnet.fc = nn.Linear(num_ftrs, num_classes)\n",
        "\n",
        "    def forward(self, x):\n",
        "        return self.resnet(x)"
      ],
      "metadata": {
        "id": "uHolAeGdNAHT"
      },
      "execution_count": 6,
      "outputs": []
    },
    {
      "cell_type": "code",
      "source": [
        "aug = T.Compose([\n",
        "    T.RandomResizedCrop(size=(224, 224)) # uses default scale and ratio values used by ImageNet\n",
        "])\n",
        "\n",
        "eval_aug = T.Compose([\n",
        "    T.RandomCrop((224, 224), pad_if_needed=True) # no stretching/scaling\n",
        "])"
      ],
      "metadata": {
        "id": "mKX4cb-rUkLg"
      },
      "execution_count": 7,
      "outputs": []
    },
    {
      "cell_type": "code",
      "source": [
        "train_len = 755\n",
        "val_len = 323\n",
        "batch_size = 32\n",
        "\n",
        "train_set, val_set = torch.utils.data.random_split(all_data, [train_len, val_len])\n",
        "\n",
        "train_loader = torch.utils.data.DataLoader(train_set, batch_size=batch_size, shuffle=True)\n",
        "val_loader = torch.utils.data.DataLoader(val_set, batch_size=1, shuffle=False)"
      ],
      "metadata": {
        "id": "czggVFEjUTIo"
      },
      "execution_count": 8,
      "outputs": []
    },
    {
      "cell_type": "code",
      "source": [
        "# split is a variable you can set as the \"name\" of the dataset (either \"train\" or \"val\")\n",
        "def evaluate(model, data_loader, name=\"val\"):\n",
        "    model.eval()\n",
        "    correct = 0  # number of correct predictions\n",
        "    total = 0    # total number of examples in the data loader\n",
        "\n",
        "    with torch.no_grad():\n",
        "        for images, labels in data_loader:\n",
        "            outputs = model(eval_aug(images).to(device=device))\n",
        "            _, predicted = torch.max(outputs.data, 1)\n",
        "            predicted = predicted.cpu()   # Move to cpu so it can be compared with labels, which is on cpu\n",
        "            total += labels.size(0)\n",
        "            correct += (predicted == labels).sum().item()\n",
        "\n",
        "    print(f'Accuracy of the network on the {total} {name} images: {100 * correct / total}%')\n",
        "\n",
        "def train_model(model, start, end):\n",
        "    start_time = time.time()\n",
        "    for epoch in range(start, end):\n",
        "        model.train() #turns on dropout\n",
        "        epoch_loss = 0\n",
        "        for batch_idx, (images, labels) in enumerate(train_loader):\n",
        "            images = aug(images).to(device=device)\n",
        "            labels = labels.to(device=device) # Put the labels on GPU as well\n",
        "            optimizer.zero_grad()\n",
        "            outputs = model(images).squeeze()\n",
        "            loss = criterion(outputs, labels)\n",
        "            loss.backward()\n",
        "            optimizer.step()\n",
        "\n",
        "            epoch_loss += loss.item() / labels.shape[0]\n",
        "        print(f\"Epoch {epoch}/{end}\")\n",
        "        evaluate(model, train_loader, name=\"train\")\n",
        "        evaluate(model, val_loader, name=\"test\")\n",
        "\n",
        "    end_time = time.time()\n",
        "    print(f\"Total training time: {end_time - start_time} sec\")"
      ],
      "metadata": {
        "id": "oZCzQr1RVa50"
      },
      "execution_count": 9,
      "outputs": []
    },
    {
      "cell_type": "markdown",
      "source": [
        "# Train AI"
      ],
      "metadata": {
        "id": "quUY4RBEMmR9"
      }
    },
    {
      "cell_type": "code",
      "source": [
        "model = TongueAI().to(device=device)"
      ],
      "metadata": {
        "id": "fdgvTr3hClyR"
      },
      "execution_count": 52,
      "outputs": []
    },
    {
      "cell_type": "code",
      "source": [
        "learning_rate = 5e-5\n",
        "num_epochs = 10"
      ],
      "metadata": {
        "id": "lQ1MdJIvUdG8"
      },
      "execution_count": 65,
      "outputs": []
    },
    {
      "cell_type": "code",
      "source": [
        "criterion = nn.CrossEntropyLoss()\n",
        "optimizer = torch.optim.Adam(model.parameters(), lr=learning_rate, weight_decay=0) # weight_decay is L2 regularization"
      ],
      "metadata": {
        "id": "VmsxYjslVbxZ"
      },
      "execution_count": 66,
      "outputs": []
    },
    {
      "cell_type": "code",
      "source": [
        "train_model(model, 0, 10)"
      ],
      "metadata": {
        "colab": {
          "base_uri": "https://localhost:8080/"
        },
        "id": "45WCnTj2Vt4I",
        "outputId": "cc185c7e-5bb8-411a-e5f1-54f249d697d6"
      },
      "execution_count": 68,
      "outputs": [
        {
          "output_type": "stream",
          "name": "stdout",
          "text": [
            "Epoch 0/10\n",
            "Accuracy of the network on the 755 train images: 73.50993377483444%\n",
            "Accuracy of the network on the 323 test images: 66.25386996904025%\n",
            "Epoch 1/10\n",
            "Accuracy of the network on the 755 train images: 73.64238410596026%\n",
            "Accuracy of the network on the 323 test images: 70.58823529411765%\n",
            "Epoch 2/10\n",
            "Accuracy of the network on the 755 train images: 73.64238410596026%\n",
            "Accuracy of the network on the 323 test images: 69.6594427244582%\n",
            "Epoch 3/10\n",
            "Accuracy of the network on the 755 train images: 72.98013245033113%\n",
            "Accuracy of the network on the 323 test images: 69.96904024767802%\n",
            "Epoch 4/10\n",
            "Accuracy of the network on the 755 train images: 72.71523178807946%\n",
            "Accuracy of the network on the 323 test images: 69.96904024767802%\n",
            "Epoch 5/10\n",
            "Accuracy of the network on the 755 train images: 72.98013245033113%\n",
            "Accuracy of the network on the 323 test images: 69.96904024767802%\n",
            "Epoch 6/10\n",
            "Accuracy of the network on the 755 train images: 72.58278145695364%\n",
            "Accuracy of the network on the 323 test images: 69.3498452012384%\n",
            "Epoch 7/10\n",
            "Accuracy of the network on the 755 train images: 73.11258278145695%\n",
            "Accuracy of the network on the 323 test images: 69.3498452012384%\n",
            "Epoch 8/10\n",
            "Accuracy of the network on the 755 train images: 71.52317880794702%\n",
            "Accuracy of the network on the 323 test images: 72.44582043343654%\n",
            "Epoch 9/10\n",
            "Accuracy of the network on the 755 train images: 73.37748344370861%\n",
            "Accuracy of the network on the 323 test images: 72.13622291021672%\n",
            "Total training time: 163.00108647346497 sec\n"
          ]
        }
      ]
    },
    {
      "cell_type": "markdown",
      "source": [
        "# Save Model"
      ],
      "metadata": {
        "id": "fGQbWbyXLFlD"
      }
    },
    {
      "cell_type": "code",
      "source": [
        "#torch.save(model.state_dict(), \"./Models/resnet_72.pt\")\n",
        "\n",
        "# Note: it was named resnet_72 because its accuracy on the test images during the training phase reached a peak of 72%."
      ],
      "metadata": {
        "id": "3qlMk7vMLGVh"
      },
      "execution_count": 70,
      "outputs": []
    },
    {
      "cell_type": "markdown",
      "source": [
        "# Load Model"
      ],
      "metadata": {
        "id": "5esnQEh-LhSD"
      }
    },
    {
      "cell_type": "code",
      "source": [
        "resnet72 = TongueAI().to(device=device)\n",
        "resnet72.load_state_dict(torch.load(\"./Models/resnet_72.pt\"))\n",
        "resnet72.eval()"
      ],
      "metadata": {
        "colab": {
          "base_uri": "https://localhost:8080/"
        },
        "id": "PGgiq6UOLiDK",
        "outputId": "2476350d-74fc-4116-9992-50c427ef987f"
      },
      "execution_count": 10,
      "outputs": [
        {
          "output_type": "execute_result",
          "data": {
            "text/plain": [
              "TongueAI(\n",
              "  (resnet): ResNet(\n",
              "    (conv1): Conv2d(3, 64, kernel_size=(7, 7), stride=(2, 2), padding=(3, 3), bias=False)\n",
              "    (bn1): BatchNorm2d(64, eps=1e-05, momentum=0.1, affine=True, track_running_stats=True)\n",
              "    (relu): ReLU(inplace=True)\n",
              "    (maxpool): MaxPool2d(kernel_size=3, stride=2, padding=1, dilation=1, ceil_mode=False)\n",
              "    (layer1): Sequential(\n",
              "      (0): Bottleneck(\n",
              "        (conv1): Conv2d(64, 64, kernel_size=(1, 1), stride=(1, 1), bias=False)\n",
              "        (bn1): BatchNorm2d(64, eps=1e-05, momentum=0.1, affine=True, track_running_stats=True)\n",
              "        (conv2): Conv2d(64, 64, kernel_size=(3, 3), stride=(1, 1), padding=(1, 1), bias=False)\n",
              "        (bn2): BatchNorm2d(64, eps=1e-05, momentum=0.1, affine=True, track_running_stats=True)\n",
              "        (conv3): Conv2d(64, 256, kernel_size=(1, 1), stride=(1, 1), bias=False)\n",
              "        (bn3): BatchNorm2d(256, eps=1e-05, momentum=0.1, affine=True, track_running_stats=True)\n",
              "        (relu): ReLU(inplace=True)\n",
              "        (downsample): Sequential(\n",
              "          (0): Conv2d(64, 256, kernel_size=(1, 1), stride=(1, 1), bias=False)\n",
              "          (1): BatchNorm2d(256, eps=1e-05, momentum=0.1, affine=True, track_running_stats=True)\n",
              "        )\n",
              "      )\n",
              "      (1): Bottleneck(\n",
              "        (conv1): Conv2d(256, 64, kernel_size=(1, 1), stride=(1, 1), bias=False)\n",
              "        (bn1): BatchNorm2d(64, eps=1e-05, momentum=0.1, affine=True, track_running_stats=True)\n",
              "        (conv2): Conv2d(64, 64, kernel_size=(3, 3), stride=(1, 1), padding=(1, 1), bias=False)\n",
              "        (bn2): BatchNorm2d(64, eps=1e-05, momentum=0.1, affine=True, track_running_stats=True)\n",
              "        (conv3): Conv2d(64, 256, kernel_size=(1, 1), stride=(1, 1), bias=False)\n",
              "        (bn3): BatchNorm2d(256, eps=1e-05, momentum=0.1, affine=True, track_running_stats=True)\n",
              "        (relu): ReLU(inplace=True)\n",
              "      )\n",
              "      (2): Bottleneck(\n",
              "        (conv1): Conv2d(256, 64, kernel_size=(1, 1), stride=(1, 1), bias=False)\n",
              "        (bn1): BatchNorm2d(64, eps=1e-05, momentum=0.1, affine=True, track_running_stats=True)\n",
              "        (conv2): Conv2d(64, 64, kernel_size=(3, 3), stride=(1, 1), padding=(1, 1), bias=False)\n",
              "        (bn2): BatchNorm2d(64, eps=1e-05, momentum=0.1, affine=True, track_running_stats=True)\n",
              "        (conv3): Conv2d(64, 256, kernel_size=(1, 1), stride=(1, 1), bias=False)\n",
              "        (bn3): BatchNorm2d(256, eps=1e-05, momentum=0.1, affine=True, track_running_stats=True)\n",
              "        (relu): ReLU(inplace=True)\n",
              "      )\n",
              "    )\n",
              "    (layer2): Sequential(\n",
              "      (0): Bottleneck(\n",
              "        (conv1): Conv2d(256, 128, kernel_size=(1, 1), stride=(1, 1), bias=False)\n",
              "        (bn1): BatchNorm2d(128, eps=1e-05, momentum=0.1, affine=True, track_running_stats=True)\n",
              "        (conv2): Conv2d(128, 128, kernel_size=(3, 3), stride=(2, 2), padding=(1, 1), bias=False)\n",
              "        (bn2): BatchNorm2d(128, eps=1e-05, momentum=0.1, affine=True, track_running_stats=True)\n",
              "        (conv3): Conv2d(128, 512, kernel_size=(1, 1), stride=(1, 1), bias=False)\n",
              "        (bn3): BatchNorm2d(512, eps=1e-05, momentum=0.1, affine=True, track_running_stats=True)\n",
              "        (relu): ReLU(inplace=True)\n",
              "        (downsample): Sequential(\n",
              "          (0): Conv2d(256, 512, kernel_size=(1, 1), stride=(2, 2), bias=False)\n",
              "          (1): BatchNorm2d(512, eps=1e-05, momentum=0.1, affine=True, track_running_stats=True)\n",
              "        )\n",
              "      )\n",
              "      (1): Bottleneck(\n",
              "        (conv1): Conv2d(512, 128, kernel_size=(1, 1), stride=(1, 1), bias=False)\n",
              "        (bn1): BatchNorm2d(128, eps=1e-05, momentum=0.1, affine=True, track_running_stats=True)\n",
              "        (conv2): Conv2d(128, 128, kernel_size=(3, 3), stride=(1, 1), padding=(1, 1), bias=False)\n",
              "        (bn2): BatchNorm2d(128, eps=1e-05, momentum=0.1, affine=True, track_running_stats=True)\n",
              "        (conv3): Conv2d(128, 512, kernel_size=(1, 1), stride=(1, 1), bias=False)\n",
              "        (bn3): BatchNorm2d(512, eps=1e-05, momentum=0.1, affine=True, track_running_stats=True)\n",
              "        (relu): ReLU(inplace=True)\n",
              "      )\n",
              "      (2): Bottleneck(\n",
              "        (conv1): Conv2d(512, 128, kernel_size=(1, 1), stride=(1, 1), bias=False)\n",
              "        (bn1): BatchNorm2d(128, eps=1e-05, momentum=0.1, affine=True, track_running_stats=True)\n",
              "        (conv2): Conv2d(128, 128, kernel_size=(3, 3), stride=(1, 1), padding=(1, 1), bias=False)\n",
              "        (bn2): BatchNorm2d(128, eps=1e-05, momentum=0.1, affine=True, track_running_stats=True)\n",
              "        (conv3): Conv2d(128, 512, kernel_size=(1, 1), stride=(1, 1), bias=False)\n",
              "        (bn3): BatchNorm2d(512, eps=1e-05, momentum=0.1, affine=True, track_running_stats=True)\n",
              "        (relu): ReLU(inplace=True)\n",
              "      )\n",
              "      (3): Bottleneck(\n",
              "        (conv1): Conv2d(512, 128, kernel_size=(1, 1), stride=(1, 1), bias=False)\n",
              "        (bn1): BatchNorm2d(128, eps=1e-05, momentum=0.1, affine=True, track_running_stats=True)\n",
              "        (conv2): Conv2d(128, 128, kernel_size=(3, 3), stride=(1, 1), padding=(1, 1), bias=False)\n",
              "        (bn2): BatchNorm2d(128, eps=1e-05, momentum=0.1, affine=True, track_running_stats=True)\n",
              "        (conv3): Conv2d(128, 512, kernel_size=(1, 1), stride=(1, 1), bias=False)\n",
              "        (bn3): BatchNorm2d(512, eps=1e-05, momentum=0.1, affine=True, track_running_stats=True)\n",
              "        (relu): ReLU(inplace=True)\n",
              "      )\n",
              "    )\n",
              "    (layer3): Sequential(\n",
              "      (0): Bottleneck(\n",
              "        (conv1): Conv2d(512, 256, kernel_size=(1, 1), stride=(1, 1), bias=False)\n",
              "        (bn1): BatchNorm2d(256, eps=1e-05, momentum=0.1, affine=True, track_running_stats=True)\n",
              "        (conv2): Conv2d(256, 256, kernel_size=(3, 3), stride=(2, 2), padding=(1, 1), bias=False)\n",
              "        (bn2): BatchNorm2d(256, eps=1e-05, momentum=0.1, affine=True, track_running_stats=True)\n",
              "        (conv3): Conv2d(256, 1024, kernel_size=(1, 1), stride=(1, 1), bias=False)\n",
              "        (bn3): BatchNorm2d(1024, eps=1e-05, momentum=0.1, affine=True, track_running_stats=True)\n",
              "        (relu): ReLU(inplace=True)\n",
              "        (downsample): Sequential(\n",
              "          (0): Conv2d(512, 1024, kernel_size=(1, 1), stride=(2, 2), bias=False)\n",
              "          (1): BatchNorm2d(1024, eps=1e-05, momentum=0.1, affine=True, track_running_stats=True)\n",
              "        )\n",
              "      )\n",
              "      (1): Bottleneck(\n",
              "        (conv1): Conv2d(1024, 256, kernel_size=(1, 1), stride=(1, 1), bias=False)\n",
              "        (bn1): BatchNorm2d(256, eps=1e-05, momentum=0.1, affine=True, track_running_stats=True)\n",
              "        (conv2): Conv2d(256, 256, kernel_size=(3, 3), stride=(1, 1), padding=(1, 1), bias=False)\n",
              "        (bn2): BatchNorm2d(256, eps=1e-05, momentum=0.1, affine=True, track_running_stats=True)\n",
              "        (conv3): Conv2d(256, 1024, kernel_size=(1, 1), stride=(1, 1), bias=False)\n",
              "        (bn3): BatchNorm2d(1024, eps=1e-05, momentum=0.1, affine=True, track_running_stats=True)\n",
              "        (relu): ReLU(inplace=True)\n",
              "      )\n",
              "      (2): Bottleneck(\n",
              "        (conv1): Conv2d(1024, 256, kernel_size=(1, 1), stride=(1, 1), bias=False)\n",
              "        (bn1): BatchNorm2d(256, eps=1e-05, momentum=0.1, affine=True, track_running_stats=True)\n",
              "        (conv2): Conv2d(256, 256, kernel_size=(3, 3), stride=(1, 1), padding=(1, 1), bias=False)\n",
              "        (bn2): BatchNorm2d(256, eps=1e-05, momentum=0.1, affine=True, track_running_stats=True)\n",
              "        (conv3): Conv2d(256, 1024, kernel_size=(1, 1), stride=(1, 1), bias=False)\n",
              "        (bn3): BatchNorm2d(1024, eps=1e-05, momentum=0.1, affine=True, track_running_stats=True)\n",
              "        (relu): ReLU(inplace=True)\n",
              "      )\n",
              "      (3): Bottleneck(\n",
              "        (conv1): Conv2d(1024, 256, kernel_size=(1, 1), stride=(1, 1), bias=False)\n",
              "        (bn1): BatchNorm2d(256, eps=1e-05, momentum=0.1, affine=True, track_running_stats=True)\n",
              "        (conv2): Conv2d(256, 256, kernel_size=(3, 3), stride=(1, 1), padding=(1, 1), bias=False)\n",
              "        (bn2): BatchNorm2d(256, eps=1e-05, momentum=0.1, affine=True, track_running_stats=True)\n",
              "        (conv3): Conv2d(256, 1024, kernel_size=(1, 1), stride=(1, 1), bias=False)\n",
              "        (bn3): BatchNorm2d(1024, eps=1e-05, momentum=0.1, affine=True, track_running_stats=True)\n",
              "        (relu): ReLU(inplace=True)\n",
              "      )\n",
              "      (4): Bottleneck(\n",
              "        (conv1): Conv2d(1024, 256, kernel_size=(1, 1), stride=(1, 1), bias=False)\n",
              "        (bn1): BatchNorm2d(256, eps=1e-05, momentum=0.1, affine=True, track_running_stats=True)\n",
              "        (conv2): Conv2d(256, 256, kernel_size=(3, 3), stride=(1, 1), padding=(1, 1), bias=False)\n",
              "        (bn2): BatchNorm2d(256, eps=1e-05, momentum=0.1, affine=True, track_running_stats=True)\n",
              "        (conv3): Conv2d(256, 1024, kernel_size=(1, 1), stride=(1, 1), bias=False)\n",
              "        (bn3): BatchNorm2d(1024, eps=1e-05, momentum=0.1, affine=True, track_running_stats=True)\n",
              "        (relu): ReLU(inplace=True)\n",
              "      )\n",
              "      (5): Bottleneck(\n",
              "        (conv1): Conv2d(1024, 256, kernel_size=(1, 1), stride=(1, 1), bias=False)\n",
              "        (bn1): BatchNorm2d(256, eps=1e-05, momentum=0.1, affine=True, track_running_stats=True)\n",
              "        (conv2): Conv2d(256, 256, kernel_size=(3, 3), stride=(1, 1), padding=(1, 1), bias=False)\n",
              "        (bn2): BatchNorm2d(256, eps=1e-05, momentum=0.1, affine=True, track_running_stats=True)\n",
              "        (conv3): Conv2d(256, 1024, kernel_size=(1, 1), stride=(1, 1), bias=False)\n",
              "        (bn3): BatchNorm2d(1024, eps=1e-05, momentum=0.1, affine=True, track_running_stats=True)\n",
              "        (relu): ReLU(inplace=True)\n",
              "      )\n",
              "    )\n",
              "    (layer4): Sequential(\n",
              "      (0): Bottleneck(\n",
              "        (conv1): Conv2d(1024, 512, kernel_size=(1, 1), stride=(1, 1), bias=False)\n",
              "        (bn1): BatchNorm2d(512, eps=1e-05, momentum=0.1, affine=True, track_running_stats=True)\n",
              "        (conv2): Conv2d(512, 512, kernel_size=(3, 3), stride=(2, 2), padding=(1, 1), bias=False)\n",
              "        (bn2): BatchNorm2d(512, eps=1e-05, momentum=0.1, affine=True, track_running_stats=True)\n",
              "        (conv3): Conv2d(512, 2048, kernel_size=(1, 1), stride=(1, 1), bias=False)\n",
              "        (bn3): BatchNorm2d(2048, eps=1e-05, momentum=0.1, affine=True, track_running_stats=True)\n",
              "        (relu): ReLU(inplace=True)\n",
              "        (downsample): Sequential(\n",
              "          (0): Conv2d(1024, 2048, kernel_size=(1, 1), stride=(2, 2), bias=False)\n",
              "          (1): BatchNorm2d(2048, eps=1e-05, momentum=0.1, affine=True, track_running_stats=True)\n",
              "        )\n",
              "      )\n",
              "      (1): Bottleneck(\n",
              "        (conv1): Conv2d(2048, 512, kernel_size=(1, 1), stride=(1, 1), bias=False)\n",
              "        (bn1): BatchNorm2d(512, eps=1e-05, momentum=0.1, affine=True, track_running_stats=True)\n",
              "        (conv2): Conv2d(512, 512, kernel_size=(3, 3), stride=(1, 1), padding=(1, 1), bias=False)\n",
              "        (bn2): BatchNorm2d(512, eps=1e-05, momentum=0.1, affine=True, track_running_stats=True)\n",
              "        (conv3): Conv2d(512, 2048, kernel_size=(1, 1), stride=(1, 1), bias=False)\n",
              "        (bn3): BatchNorm2d(2048, eps=1e-05, momentum=0.1, affine=True, track_running_stats=True)\n",
              "        (relu): ReLU(inplace=True)\n",
              "      )\n",
              "      (2): Bottleneck(\n",
              "        (conv1): Conv2d(2048, 512, kernel_size=(1, 1), stride=(1, 1), bias=False)\n",
              "        (bn1): BatchNorm2d(512, eps=1e-05, momentum=0.1, affine=True, track_running_stats=True)\n",
              "        (conv2): Conv2d(512, 512, kernel_size=(3, 3), stride=(1, 1), padding=(1, 1), bias=False)\n",
              "        (bn2): BatchNorm2d(512, eps=1e-05, momentum=0.1, affine=True, track_running_stats=True)\n",
              "        (conv3): Conv2d(512, 2048, kernel_size=(1, 1), stride=(1, 1), bias=False)\n",
              "        (bn3): BatchNorm2d(2048, eps=1e-05, momentum=0.1, affine=True, track_running_stats=True)\n",
              "        (relu): ReLU(inplace=True)\n",
              "      )\n",
              "    )\n",
              "    (avgpool): AdaptiveAvgPool2d(output_size=(1, 1))\n",
              "    (fc): Linear(in_features=2048, out_features=4, bias=True)\n",
              "  )\n",
              ")"
            ]
          },
          "metadata": {},
          "execution_count": 10
        }
      ]
    },
    {
      "cell_type": "markdown",
      "source": [
        "# Evaluate Model"
      ],
      "metadata": {
        "id": "NDDcyLEeNJau"
      }
    },
    {
      "cell_type": "code",
      "source": [
        "def eval_one_image(model, idx):\n",
        "    image, label = all_data.__getitem__(idx)\n",
        "    image = image.unsqueeze(0) # make it a batch of size 1\n",
        "    outputs = model(eval_aug(image).to(device=device))\n",
        "    _, predicted = torch.max(outputs.data, 1)\n",
        "    predicted = predicted.cpu()\n",
        "    display(all_data.get_image(idx))\n",
        "    print(f'Predicted: {all_data.get_class(predicted.item())}')\n",
        "    print(f'Actual: {all_data.get_class(label)}')\n",
        "\n",
        "def eval_all_images(model, val_loader):\n",
        "    matrix = [[0 for i in range(4)] for j in range(4)]\n",
        "    for (images, labels) in val_loader:\n",
        "        images = images.to(device=device)\n",
        "        output = model(eval_aug(images))\n",
        "        _, predicted = torch.max(output.data, 1)\n",
        "        predicted = predicted.item()\n",
        "        labels = labels.item()\n",
        "        matrix[predicted][labels] += 1\n",
        "\n",
        "    return matrix"
      ],
      "metadata": {
        "id": "NedQA2XIZmny"
      },
      "execution_count": 15,
      "outputs": []
    },
    {
      "cell_type": "code",
      "source": [
        "torch.manual_seed(84)\n",
        "matrix = eval_all_images(resnet72, val_loader)\n",
        "print(matrix)"
      ],
      "metadata": {
        "colab": {
          "base_uri": "https://localhost:8080/"
        },
        "id": "BcjEw39EazKK",
        "outputId": "d87bfa8d-b452-4d38-c642-d79d2af38983"
      },
      "execution_count": 16,
      "outputs": [
        {
          "output_type": "stream",
          "name": "stdout",
          "text": [
            "[[119, 34, 4, 4], [1, 0, 0, 0], [3, 2, 46, 17], [6, 2, 37, 48]]\n"
          ]
        }
      ]
    },
    {
      "cell_type": "markdown",
      "source": [
        "# Plot Confusion Matrix"
      ],
      "metadata": {
        "id": "FBGf_oJWSIFL"
      }
    },
    {
      "cell_type": "code",
      "source": [
        "matrix = [[119, 34, 4, 4], [1, 0, 0, 0], [3, 2, 46, 17], [6, 2, 37, 48]]\n",
        "classes = ['cancer', 'precancer', 'normal', 'benign']"
      ],
      "metadata": {
        "id": "8SRvrbFyd-zc"
      },
      "execution_count": 4,
      "outputs": []
    },
    {
      "cell_type": "code",
      "source": [
        "import seaborn as sn\n",
        "import pandas as pd\n",
        "import matplotlib.pyplot as plt"
      ],
      "metadata": {
        "id": "oNR2wbXeSB4q"
      },
      "execution_count": 3,
      "outputs": []
    },
    {
      "cell_type": "code",
      "source": [
        "df = pd.DataFrame(matrix, index = classes, columns = classes)"
      ],
      "metadata": {
        "id": "1OnCL-fFSdvC"
      },
      "execution_count": 5,
      "outputs": []
    },
    {
      "cell_type": "code",
      "source": [
        "plt.figure()\n",
        "sn.heatmap(df, annot=True, fmt='d')\n",
        "plt.xlabel('correct label')\n",
        "plt.ylabel('predicted')\n",
        "plt.title('Confusion Matrix')\n",
        "plt.show()"
      ],
      "metadata": {
        "colab": {
          "base_uri": "https://localhost:8080/",
          "height": 295
        },
        "id": "6NHYdC6AStbv",
        "outputId": "f2568cbc-6fad-4e94-a241-ea097fcf65bb"
      },
      "execution_count": 9,
      "outputs": [
        {
          "output_type": "display_data",
          "data": {
            "text/plain": [
              "<Figure size 432x288 with 2 Axes>"
            ],
            "image/png": "[encoded data removed]"
          },
          "metadata": {
            "needs_background": "light"
          }
        }
      ]
    },
    {
      "cell_type": "code",
      "source": [
        "grouped_matrix = [[119+34+1, 4+4], [3+2+6+2, 46+17+37+48]]\n",
        "grouped_classes = [\"pre/cancer\", \"normal/benign\"]\n",
        "df2 = pd.DataFrame(grouped_matrix, index=grouped_classes, columns=grouped_classes)"
      ],
      "metadata": {
        "id": "FYadK4zlSwTD"
      },
      "execution_count": 13,
      "outputs": []
    },
    {
      "cell_type": "code",
      "source": [
        "plt.figure()\n",
        "sn.heatmap(df2, annot=True, fmt='d')\n",
        "plt.xlabel('correct label')\n",
        "plt.ylabel('predicted')\n",
        "plt.title('Grouped Confusion Matrix')\n",
        "plt.show()"
      ],
      "metadata": {
        "colab": {
          "base_uri": "https://localhost:8080/",
          "height": 295
        },
        "id": "MMbasK3HVN5S",
        "outputId": "e40346b9-f94b-42f1-f93c-9736d044421e"
      },
      "execution_count": 19,
      "outputs": [
        {
          "output_type": "display_data",
          "data": {
            "text/plain": [
              "<Figure size 432x288 with 2 Axes>"
            ],
            "image/png": "[encoded data removed]"
          },
          "metadata": {
            "needs_background": "light"
          }
        }
      ]
    },
    {
      "cell_type": "code",
      "source": [
        "def accuracy(matrix):\n",
        "    return sum([matrix[i][i] for i in range(len(matrix))])/sum([sum(matrix[i]) for i in range(len(matrix))])"
      ],
      "metadata": {
        "id": "5tY3gzm4VsHT"
      },
      "execution_count": 16,
      "outputs": []
    },
    {
      "cell_type": "code",
      "source": [
        "print(\"raw accuracy with 4 classes:\")\n",
        "accuracy(matrix)"
      ],
      "metadata": {
        "colab": {
          "base_uri": "https://localhost:8080/"
        },
        "id": "yONb8GcYYQRf",
        "outputId": "e262b1e0-7725-4c88-9c93-6cbea2f27f7e"
      },
      "execution_count": 20,
      "outputs": [
        {
          "output_type": "stream",
          "name": "stdout",
          "text": [
            "raw accuracy with 4 classes:\n"
          ]
        },
        {
          "output_type": "execute_result",
          "data": {
            "text/plain": [
              "0.6594427244582043"
            ]
          },
          "metadata": {},
          "execution_count": 20
        }
      ]
    },
    {
      "cell_type": "code",
      "source": [
        "print(\"accuracy with grouped classes:\")\n",
        "accuracy(grouped_matrix)"
      ],
      "metadata": {
        "colab": {
          "base_uri": "https://localhost:8080/"
        },
        "id": "3mBbN04_YRra",
        "outputId": "07862acb-0f36-4a17-d2d7-a6a7e80068d9"
      },
      "execution_count": 21,
      "outputs": [
        {
          "output_type": "stream",
          "name": "stdout",
          "text": [
            "accuracy with grouped classes:\n"
          ]
        },
        {
          "output_type": "execute_result",
          "data": {
            "text/plain": [
              "0.934984520123839"
            ]
          },
          "metadata": {},
          "execution_count": 21
        }
      ]
    },
    {
      "cell_type": "code",
      "source": [],
      "metadata": {
        "id": "GB0UU0N5YT7R"
      },
      "execution_count": null,
      "outputs": []
    }
  ]
}